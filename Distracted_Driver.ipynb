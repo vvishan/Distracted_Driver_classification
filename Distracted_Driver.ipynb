{
  "nbformat": 4,
  "nbformat_minor": 0,
  "metadata": {
    "colab": {
      "provenance": []
    },
    "kernelspec": {
      "name": "python3",
      "display_name": "Python 3"
    },
    "language_info": {
      "name": "python"
    }
  },
  "cells": [
    {
      "cell_type": "code",
      "execution_count": null,
      "metadata": {
        "id": "Nz8bjA8jCkGU"
      },
      "outputs": [],
      "source": [
        "!wget  https://www.dropbox.com/s/0vyzjcqsdl6cqi2/state-farm-distracted-driver-detection.zip?dl=0"
      ]
    },
    {
      "cell_type": "code",
      "source": [
        "!unzip state-farm-distracted-driver-detection.zip?dl=0"
      ],
      "metadata": {
        "colab": {
          "base_uri": "https://localhost:8080/"
        },
        "id": "TAUg2Ai8DP7E",
        "outputId": "718d508e-9083-499a-be20-e33d98f88551"
      },
      "execution_count": 2,
      "outputs": [
        {
          "output_type": "stream",
          "name": "stdout",
          "text": [
            "Archive:  state-farm-distracted-driver-detection.zip?dl=0\n",
            "  inflating: sample_submission.csv   \n",
            "  inflating: driver_imgs_list.csv    \n",
            "  inflating: imgs.zip                \n"
          ]
        }
      ]
    },
    {
      "cell_type": "code",
      "source": [
        "!unzip imgs.zip"
      ],
      "metadata": {
        "id": "lUYQktpiDqoC"
      },
      "execution_count": null,
      "outputs": []
    },
    {
      "cell_type": "code",
      "source": [
        "import os\n",
        "import pandas as pd\n",
        "import numpy as np\n",
        "from keras.models import Sequential,Model\n",
        "from keras.layers import Conv2D,Flatten,Dense,MaxPooling2D,Dropout"
      ],
      "metadata": {
        "id": "4RtoGpYXENDP"
      },
      "execution_count": 4,
      "outputs": []
    },
    {
      "cell_type": "code",
      "source": [
        "len(os.listdir('/content/test'))"
      ],
      "metadata": {
        "colab": {
          "base_uri": "https://localhost:8080/"
        },
        "id": "5gqlKyzNFUWz",
        "outputId": "6140c6ab-3ea1-4a78-d93d-33579729e066"
      },
      "execution_count": 5,
      "outputs": [
        {
          "output_type": "execute_result",
          "data": {
            "text/plain": [
              "79726"
            ]
          },
          "metadata": {},
          "execution_count": 5
        }
      ]
    },
    {
      "cell_type": "code",
      "source": [
        "print(len(os.listdir('/content/train/c0')))\n",
        "print(len(os.listdir('/content/train/c1')))\n",
        "print(len(os.listdir('/content/train/c2')))\n",
        "print(len(os.listdir('/content/train/c3')))\n",
        "print(len(os.listdir('/content/train/c4')))\n",
        "print(len(os.listdir('/content/train/c5')))\n",
        "print(len(os.listdir('/content/train/c6')))\n",
        "print(len(os.listdir('/content/train/c7')))\n",
        "print(len(os.listdir('/content/train/c8')))\n",
        "print(len(os.listdir('/content/train/c9')))"
      ],
      "metadata": {
        "colab": {
          "base_uri": "https://localhost:8080/"
        },
        "id": "T5IZHxujFeJS",
        "outputId": "431579d3-9657-4c0f-d5ed-aaf5d32cb347"
      },
      "execution_count": 6,
      "outputs": [
        {
          "output_type": "stream",
          "name": "stdout",
          "text": [
            "2489\n",
            "2267\n",
            "2317\n",
            "2346\n",
            "2326\n",
            "2312\n",
            "2325\n",
            "2002\n",
            "1911\n",
            "2129\n"
          ]
        }
      ]
    },
    {
      "cell_type": "code",
      "source": [
        "model=Sequential()\n",
        "model.add(Conv2D(32,(5,5),input_shape=(64,64,3),activation='relu'))\n",
        "model.add(MaxPooling2D(pool_size=(2,2)))\n",
        "model.add(Conv2D(64,(5,5),activation='relu'))\n",
        "model.add(MaxPooling2D(pool_size=(2,2)))\n",
        "model.add(Flatten())\n",
        "model.add(Dense(1024,activation='relu'))\n",
        "model.add(Dropout(0.2))\n",
        "model.add(Dense(200,activation='relu'))\n",
        "model.add(Dropout(0.2))\n",
        "model.add(Dense(10,activation='sigmoid'))"
      ],
      "metadata": {
        "id": "HkChCQ5kIIfD"
      },
      "execution_count": 7,
      "outputs": []
    },
    {
      "cell_type": "code",
      "source": [
        "model.compile(optimizer='adam',loss='categorical_crossentropy',metrics=['accuracy'])"
      ],
      "metadata": {
        "id": "j3Pddw3hKlJG"
      },
      "execution_count": 8,
      "outputs": []
    },
    {
      "cell_type": "code",
      "source": [
        "from tensorflow.keras.preprocessing.image import ImageDataGenerator"
      ],
      "metadata": {
        "id": "bevw_sVWK1v2"
      },
      "execution_count": 9,
      "outputs": []
    },
    {
      "cell_type": "code",
      "source": [
        "train_datagen = ImageDataGenerator(\n",
        "    rescale=1./255,\n",
        "    shear_range=0.2,\n",
        "    zoom_range=0.2,\n",
        "    horizontal_flip=True,validation_split=0.2)\n",
        "\n",
        "test_datagen = ImageDataGenerator(rescale=1./255)"
      ],
      "metadata": {
        "id": "TPrugwsxLcA6"
      },
      "execution_count": 10,
      "outputs": []
    },
    {
      "cell_type": "code",
      "source": [
        "%mkdir Test"
      ],
      "metadata": {
        "id": "vxUyCrk9Nr7S"
      },
      "execution_count": 11,
      "outputs": []
    },
    {
      "cell_type": "code",
      "source": [
        "!mv /content/test/ /content/Test"
      ],
      "metadata": {
        "id": "udlQbTqEN0j4"
      },
      "execution_count": 12,
      "outputs": []
    },
    {
      "cell_type": "code",
      "source": [
        "train_generator=train_datagen.flow_from_directory(\n",
        "   '/content/train',\n",
        "   target_size=(64,64),\n",
        "   batch_size=32,\n",
        "   class_mode='categorical',\n",
        "   subset='training' \n",
        ")\n",
        "validation_generator=train_datagen.flow_from_directory(\n",
        "    '/content/train',\n",
        "    target_size=(64,64),\n",
        "    batch_size=32,\n",
        "    class_mode='categorical',\n",
        "    subset='validation'\n",
        ")\n",
        "test_generator = test_datagen.flow_from_directory(\n",
        "    '/content/Test' ,\n",
        "    target_size=(64,64),\n",
        "    batch_size=2,\n",
        "    class_mode='categorical',\n",
        "    shuffle=False\n",
        ")"
      ],
      "metadata": {
        "colab": {
          "base_uri": "https://localhost:8080/"
        },
        "id": "C13YkJvsOWNx",
        "outputId": "31849a53-8678-4262-e3f8-933f4096afbe"
      },
      "execution_count": 13,
      "outputs": [
        {
          "output_type": "stream",
          "name": "stdout",
          "text": [
            "Found 17943 images belonging to 10 classes.\n",
            "Found 4481 images belonging to 10 classes.\n",
            "Found 79726 images belonging to 1 classes.\n"
          ]
        }
      ]
    },
    {
      "cell_type": "code",
      "source": [
        "type(test_generator)"
      ],
      "metadata": {
        "colab": {
          "base_uri": "https://localhost:8080/"
        },
        "id": "hzqoOpAkQ0-X",
        "outputId": "e78eacb5-bc37-4bff-92f3-1a2ba7e143b2"
      },
      "execution_count": 14,
      "outputs": [
        {
          "output_type": "execute_result",
          "data": {
            "text/plain": [
              "keras.preprocessing.image.DirectoryIterator"
            ]
          },
          "metadata": {},
          "execution_count": 14
        }
      ]
    },
    {
      "cell_type": "code",
      "source": [
        "STEPS_PER_EPOCHS=train_generator.n//train_generator.batch_size\n",
        "VALIDATION_STEPS=validation_generator.n//train_generator.batch_size"
      ],
      "metadata": {
        "id": "OZS7xbKC-BL9"
      },
      "execution_count": 17,
      "outputs": []
    },
    {
      "cell_type": "code",
      "source": [
        "model.fit(train_generator,\n",
        "          steps_per_epoch= STEPS_PER_EPOCHS,\n",
        "          epochs=10,\n",
        "          validation_steps=VALIDATION_STEPS\n",
        "          )"
      ],
      "metadata": {
        "colab": {
          "base_uri": "https://localhost:8080/"
        },
        "id": "q9DUWpXN_CmZ",
        "outputId": "6979f6e8-060d-4e28-e93a-d0fa496b0596"
      },
      "execution_count": 19,
      "outputs": [
        {
          "output_type": "stream",
          "name": "stdout",
          "text": [
            "Epoch 1/10\n",
            "560/560 [==============================] - 379s 674ms/step - loss: 1.2824 - accuracy: 0.5372\n",
            "Epoch 2/10\n",
            "560/560 [==============================] - 365s 651ms/step - loss: 0.3943 - accuracy: 0.8760\n",
            "Epoch 3/10\n",
            "560/560 [==============================] - 368s 656ms/step - loss: 0.2293 - accuracy: 0.9283\n",
            "Epoch 4/10\n",
            "560/560 [==============================] - 361s 644ms/step - loss: 0.1767 - accuracy: 0.9461\n",
            "Epoch 5/10\n",
            "560/560 [==============================] - 368s 657ms/step - loss: 0.1396 - accuracy: 0.9566\n",
            "Epoch 6/10\n",
            "560/560 [==============================] - 352s 629ms/step - loss: 0.1253 - accuracy: 0.9615\n",
            "Epoch 7/10\n",
            "560/560 [==============================] - 359s 641ms/step - loss: 0.1066 - accuracy: 0.9675\n",
            "Epoch 8/10\n",
            "560/560 [==============================] - 362s 646ms/step - loss: 0.0975 - accuracy: 0.9704\n",
            "Epoch 9/10\n",
            "560/560 [==============================] - 370s 660ms/step - loss: 0.0896 - accuracy: 0.9721\n",
            "Epoch 10/10\n",
            "560/560 [==============================] - 429s 767ms/step - loss: 0.0856 - accuracy: 0.9746\n"
          ]
        },
        {
          "output_type": "execute_result",
          "data": {
            "text/plain": [
              "<keras.callbacks.History at 0x7f6194f98730>"
            ]
          },
          "metadata": {},
          "execution_count": 19
        }
      ]
    },
    {
      "cell_type": "code",
      "source": [
        "from tensorflow.keras.layers import Conv2D,Dense,Dropout,MaxPooling2D,Flatten,Activation,BatchNormalization"
      ],
      "metadata": {
        "id": "6E5vovtwMXMe"
      },
      "execution_count": 21,
      "outputs": []
    },
    {
      "cell_type": "code",
      "source": [
        "mod=Sequential()\n",
        "mod.add(Conv2D(32,kernel_size=(5,5),activation='relu',input_shape=(64,64,3)))\n",
        "mod.add(BatchNormalization())\n",
        "mod.add(MaxPooling2D(pool_size=(2,2),padding='same'))\n",
        "mod.add(Dropout(0.3))\n",
        "mod.add(Conv2D(64,kernel_size=(2,2),activation='relu',padding='same'))\n",
        "mod.add(BatchNormalization())\n",
        "mod.add(MaxPooling2D(pool_size=(2,2),padding='same'))\n",
        "mod.add(Dropout(0.3))\n",
        "mod.add(Conv2D(128,kernel_size=(5,5),activation='relu',padding='same'))\n",
        "mod.add(BatchNormalization())\n",
        "mod.add(MaxPooling2D(pool_size=(2,2),padding='same'))\n",
        "mod.add(Dropout(0.5))\n",
        "mod.add(Flatten())\n",
        "mod.add(Dense(512,activation='relu'))\n",
        "mod.add(BatchNormalization())\n",
        "mod.add(Dropout(0.5))\n",
        "mod.add(Dense(128,activation='relu'))\n",
        "mod.add(Dropout(0.25))\n",
        "mod.add(Dense(10,activation='softmax'))"
      ],
      "metadata": {
        "id": "aCxwCt8qM806"
      },
      "execution_count": 24,
      "outputs": []
    },
    {
      "cell_type": "code",
      "source": [
        "mod.compile(optimizer='adam',loss='categorical_crossentropy',metrics=['accuracy'])"
      ],
      "metadata": {
        "id": "5iZCY61vZIw-"
      },
      "execution_count": 25,
      "outputs": []
    },
    {
      "cell_type": "markdown",
      "source": [
        "Validate"
      ],
      "metadata": {
        "id": "ww6fjfpWZgfR"
      }
    },
    {
      "cell_type": "code",
      "source": [
        "STEPS_PER_EPOCH= train_generator.n// train_generator.batch_size\n",
        "VALIDATION_STEP= validation_generator.n//train_generator.batch_size"
      ],
      "metadata": {
        "id": "r7XRzWLsZkgj"
      },
      "execution_count": 26,
      "outputs": []
    },
    {
      "cell_type": "code",
      "source": [
        "model2=mod.fit(train_generator,\n",
        "               steps_per_epoch=STEPS_PER_EPOCH,\n",
        "               epochs=5,\n",
        "               validation_data=validation_generator,\n",
        "               validation_steps=VALIDATION_STEP)"
      ],
      "metadata": {
        "colab": {
          "base_uri": "https://localhost:8080/"
        },
        "id": "5NxHtxRUaeRT",
        "outputId": "4c0c0c94-d29c-4fdb-9488-055ff63cec14"
      },
      "execution_count": 30,
      "outputs": [
        {
          "output_type": "stream",
          "name": "stdout",
          "text": [
            "Epoch 1/5\n",
            "560/560 [==============================] - 556s 993ms/step - loss: 0.4377 - accuracy: 0.8549 - val_loss: 0.3763 - val_accuracy: 0.8699\n",
            "Epoch 2/5\n",
            "560/560 [==============================] - 507s 905ms/step - loss: 0.4056 - accuracy: 0.8662 - val_loss: 0.2734 - val_accuracy: 0.9136\n",
            "Epoch 3/5\n",
            "560/560 [==============================] - 486s 868ms/step - loss: 0.3818 - accuracy: 0.8720 - val_loss: 0.2688 - val_accuracy: 0.9176\n",
            "Epoch 4/5\n",
            "560/560 [==============================] - 451s 806ms/step - loss: 0.3582 - accuracy: 0.8810 - val_loss: 0.1743 - val_accuracy: 0.9413\n",
            "Epoch 5/5\n",
            "560/560 [==============================] - 417s 744ms/step - loss: 0.3228 - accuracy: 0.8939 - val_loss: 0.1580 - val_accuracy: 0.9462\n"
          ]
        }
      ]
    },
    {
      "cell_type": "code",
      "source": [
        "%matplotlib inline\n",
        "import matplotlib.pyplot as plt"
      ],
      "metadata": {
        "id": "zMS54_8xbH6Z"
      },
      "execution_count": 31,
      "outputs": []
    },
    {
      "cell_type": "code",
      "source": [
        "acc=model2.history['accuracy']\n",
        "val_acc=model2.history['val_accuracy']\n",
        "loss=model2.history['loss']\n",
        "val_loss=model2.history['val_loss']\n",
        "epochs=range(1,len(acc)+1)\n",
        "plt.plot(epochs,acc,'r',label='tranining accuracy')\n",
        "plt.plot(epochs,val_acc,'b',label='validation accuracy')\n",
        "plt.title('training and validation accurcy')\n",
        "plt.legend()\n",
        "plt.figure()\n",
        "\n",
        "#plotting the loss\n",
        "\n",
        "plt.plot(epochs,loss,'r',label='Training loss')\n",
        "plt.plot(epochs,val_loss,'b',label='validation loss')\n",
        "plt.title('Traiing and validation loss')\n",
        "plt.legend()\n",
        "plt.show()"
      ],
      "metadata": {
        "colab": {
          "base_uri": "https://localhost:8080/",
          "height": 887
        },
        "id": "aihFjvxWbbnE",
        "outputId": "97d4cda5-28c4-49b0-a8c9-d9208bbdcbd8"
      },
      "execution_count": 33,
      "outputs": [
        {
          "output_type": "display_data",
          "data": {
            "text/plain": [
              "<Figure size 640x480 with 1 Axes>"
            ],
            "image/png": "[encoded data removed]"
          },
          "metadata": {}
        },
        {
          "output_type": "display_data",
          "data": {
            "text/plain": [
              "<Figure size 640x480 with 1 Axes>"
            ],
            "image/png": "[encoded data removed]"
          },
          "metadata": {}
        }
      ]
    },
    {
      "cell_type": "code",
      "source": [
        "STEP_SIZE_TEST= test_generator.n//test_generator.batch_size\n",
        "test_generator.reset()\n",
        "pred=mod.predict_generator(test_generator,steps=STEP_SIZE_TEST,verbose=1)"
      ],
      "metadata": {
        "colab": {
          "base_uri": "https://localhost:8080/"
        },
        "id": "9Zi1CAW5sW7X",
        "outputId": "8f5eb35b-fd4f-45b4-95c7-0c6a881ca1de"
      },
      "execution_count": 34,
      "outputs": [
        {
          "output_type": "stream",
          "name": "stderr",
          "text": [
            "<ipython-input-34-cd60d84bc88c>:3: UserWarning: `Model.predict_generator` is deprecated and will be removed in a future version. Please use `Model.predict`, which supports generators.\n",
            "  pred=mod.predict_generator(test_generator,steps=STEP_SIZE_TEST,verbose=1)\n"
          ]
        },
        {
          "output_type": "stream",
          "name": "stdout",
          "text": [
            "39863/39863 [==============================] - 911s 23ms/step\n"
          ]
        }
      ]
    },
    {
      "cell_type": "code",
      "source": [
        "pred"
      ],
      "metadata": {
        "colab": {
          "base_uri": "https://localhost:8080/"
        },
        "id": "YK4engR_uJiK",
        "outputId": "a6c0acec-633e-4eed-e933-53ae1bacd28f"
      },
      "execution_count": 35,
      "outputs": [
        {
          "output_type": "execute_result",
          "data": {
            "text/plain": [
              "array([[9.2280629e-08, 3.7294451e-10, 3.3430528e-10, ..., 1.0214369e-09,\n",
              "        1.2768003e-08, 8.6349310e-09],\n",
              "       [3.9509494e-05, 3.6513570e-06, 1.1552816e-04, ..., 6.7794681e-05,\n",
              "        3.4992909e-04, 3.4175030e-04],\n",
              "       [2.3955463e-01, 5.7747120e-01, 5.0513544e-03, ..., 1.9977579e-02,\n",
              "        3.2803572e-03, 3.4577728e-03],\n",
              "       ...,\n",
              "       [2.7141089e-03, 6.3172658e-04, 1.6765798e-02, ..., 1.5963799e-01,\n",
              "        1.2845415e-01, 4.2180665e-02],\n",
              "       [9.5094226e-09, 1.7563943e-07, 5.7314259e-01, ..., 6.2516738e-06,\n",
              "        4.2097205e-03, 7.7691148e-08],\n",
              "       [1.4359177e-09, 1.4080706e-11, 4.5625168e-10, ..., 1.6313893e-10,\n",
              "        1.2150438e-08, 6.8760904e-09]], dtype=float32)"
            ]
          },
          "metadata": {},
          "execution_count": 35
        }
      ]
    },
    {
      "cell_type": "code",
      "source": [
        "len(pred)"
      ],
      "metadata": {
        "colab": {
          "base_uri": "https://localhost:8080/"
        },
        "id": "F5owuvPmuMPP",
        "outputId": "48c48c6e-4de3-4b90-ba16-dd44c18b4959"
      },
      "execution_count": 36,
      "outputs": [
        {
          "output_type": "execute_result",
          "data": {
            "text/plain": [
              "79726"
            ]
          },
          "metadata": {},
          "execution_count": 36
        }
      ]
    },
    {
      "cell_type": "code",
      "source": [
        "label_test=pd.DataFrame(pred)"
      ],
      "metadata": {
        "id": "VC32Hz-BuQQK"
      },
      "execution_count": 37,
      "outputs": []
    },
    {
      "cell_type": "code",
      "source": [
        "label_test"
      ],
      "metadata": {
        "id": "J82qbpjo2h-p",
        "outputId": "cc4b2552-6ecf-4c40-ceca-1ac56229c5f8",
        "colab": {
          "base_uri": "https://localhost:8080/",
          "height": 641
        }
      },
      "execution_count": 38,
      "outputs": [
        {
          "output_type": "execute_result",
          "data": {
            "text/plain": [
              "                  0             1             2             3             4  \\\n",
              "0      9.228063e-08  3.729445e-10  3.343053e-10  4.557055e-07  4.699829e-09   \n",
              "1      3.950949e-05  3.651357e-06  1.155282e-04  3.801573e-05  1.041196e-04   \n",
              "2      2.395546e-01  5.774712e-01  5.051354e-03  1.448591e-01  3.928897e-03   \n",
              "3      2.441454e-02  7.013447e-02  2.210357e-02  5.774905e-03  1.042220e-02   \n",
              "4      1.482907e-04  4.363895e-09  8.735238e-09  9.928691e-01  6.943973e-03   \n",
              "...             ...           ...           ...           ...           ...   \n",
              "79721  1.392439e-03  7.898849e-01  4.518250e-03  2.624607e-05  6.658742e-06   \n",
              "79722  2.909330e-03  9.769668e-01  6.106063e-04  1.840645e-02  9.927468e-06   \n",
              "79723  2.714109e-03  6.317266e-04  1.676580e-02  5.127796e-03  6.281042e-01   \n",
              "79724  9.509423e-09  1.756394e-07  5.731426e-01  3.233843e-10  5.015582e-08   \n",
              "79725  1.435918e-09  1.408071e-11  4.562517e-10  9.830616e-11  2.590868e-13   \n",
              "\n",
              "                  5             6             7             8             9  \n",
              "0      9.999994e-01  5.963048e-10  1.021437e-09  1.276800e-08  8.634931e-09  \n",
              "1      9.978821e-01  1.057521e-03  6.779468e-05  3.499291e-04  3.417503e-04  \n",
              "2      7.488049e-05  2.344163e-03  1.997758e-02  3.280357e-03  3.457773e-03  \n",
              "3      2.400503e-02  1.967913e-01  2.473855e-02  5.343477e-01  8.726782e-02  \n",
              "4      1.275846e-05  3.968282e-07  4.996914e-10  2.535214e-05  7.166991e-08  \n",
              "...             ...           ...           ...           ...           ...  \n",
              "79721  5.474327e-02  2.677319e-03  1.294346e-01  1.580592e-02  1.510424e-03  \n",
              "79722  1.953570e-05  7.033718e-04  3.250641e-06  1.049655e-04  2.656996e-04  \n",
              "79723  4.865540e-04  1.589698e-02  1.596380e-01  1.284541e-01  4.218066e-02  \n",
              "79724  8.031676e-09  4.226411e-01  6.251674e-06  4.209721e-03  7.769115e-08  \n",
              "79725  1.000000e+00  6.855363e-12  1.631389e-10  1.215044e-08  6.876090e-09  \n",
              "\n",
              "[79726 rows x 10 columns]"
            ],
            "text/html": [
              "\n",
              "  <div id=\"df-fc74d335-3388-4fe6-b8b8-a86b7503daf5\">\n",
              "    <div class=\"colab-df-container\">\n",
              "      <div>\n",
              "<style scoped>\n",
              "    .dataframe tbody tr th:only-of-type {\n",
              "        vertical-align: middle;\n",
              "    }\n",
              "\n",
              "    .dataframe tbody tr th {\n",
              "        vertical-align: top;\n",
              "    }\n",
              "\n",
              "    .dataframe thead th {\n",
              "        text-align: right;\n",
              "    }\n",
              "</style>\n",
              "<table border=\"1\" class=\"dataframe\">\n",
              "  <thead>\n",
              "    <tr style=\"text-align: right;\">\n",
              "      <th></th>\n",
              "      <th>0</th>\n",
              "      <th>1</th>\n",
              "      <th>2</th>\n",
              "      <th>3</th>\n",
              "      <th>4</th>\n",
              "      <th>5</th>\n",
              "      <th>6</th>\n",
              "      <th>7</th>\n",
              "      <th>8</th>\n",
              "      <th>9</th>\n",
              "    </tr>\n",
              "  </thead>\n",
              "  <tbody>\n",
              "    <tr>\n",
              "      <th>0</th>\n",
              "      <td>9.228063e-08</td>\n",
              "      <td>3.729445e-10</td>\n",
              "      <td>3.343053e-10</td>\n",
              "      <td>4.557055e-07</td>\n",
              "      <td>4.699829e-09</td>\n",
              "      <td>9.999994e-01</td>\n",
              "      <td>5.963048e-10</td>\n",
              "      <td>1.021437e-09</td>\n",
              "      <td>1.276800e-08</td>\n",
              "      <td>8.634931e-09</td>\n",
              "    </tr>\n",
              "    <tr>\n",
              "      <th>1</th>\n",
              "      <td>3.950949e-05</td>\n",
              "      <td>3.651357e-06</td>\n",
              "      <td>1.155282e-04</td>\n",
              "      <td>3.801573e-05</td>\n",
              "      <td>1.041196e-04</td>\n",
              "      <td>9.978821e-01</td>\n",
              "      <td>1.057521e-03</td>\n",
              "      <td>6.779468e-05</td>\n",
              "      <td>3.499291e-04</td>\n",
              "      <td>3.417503e-04</td>\n",
              "    </tr>\n",
              "    <tr>\n",
              "      <th>2</th>\n",
              "      <td>2.395546e-01</td>\n",
              "      <td>5.774712e-01</td>\n",
              "      <td>5.051354e-03</td>\n",
              "      <td>1.448591e-01</td>\n",
              "      <td>3.928897e-03</td>\n",
              "      <td>7.488049e-05</td>\n",
              "      <td>2.344163e-03</td>\n",
              "      <td>1.997758e-02</td>\n",
              "      <td>3.280357e-03</td>\n",
              "      <td>3.457773e-03</td>\n",
              "    </tr>\n",
              "    <tr>\n",
              "      <th>3</th>\n",
              "      <td>2.441454e-02</td>\n",
              "      <td>7.013447e-02</td>\n",
              "      <td>2.210357e-02</td>\n",
              "      <td>5.774905e-03</td>\n",
              "      <td>1.042220e-02</td>\n",
              "      <td>2.400503e-02</td>\n",
              "      <td>1.967913e-01</td>\n",
              "      <td>2.473855e-02</td>\n",
              "      <td>5.343477e-01</td>\n",
              "      <td>8.726782e-02</td>\n",
              "    </tr>\n",
              "    <tr>\n",
              "      <th>4</th>\n",
              "      <td>1.482907e-04</td>\n",
              "      <td>4.363895e-09</td>\n",
              "      <td>8.735238e-09</td>\n",
              "      <td>9.928691e-01</td>\n",
              "      <td>6.943973e-03</td>\n",
              "      <td>1.275846e-05</td>\n",
              "      <td>3.968282e-07</td>\n",
              "      <td>4.996914e-10</td>\n",
              "      <td>2.535214e-05</td>\n",
              "      <td>7.166991e-08</td>\n",
              "    </tr>\n",
              "    <tr>\n",
              "      <th>...</th>\n",
              "      <td>...</td>\n",
              "      <td>...</td>\n",
              "      <td>...</td>\n",
              "      <td>...</td>\n",
              "      <td>...</td>\n",
              "      <td>...</td>\n",
              "      <td>...</td>\n",
              "      <td>...</td>\n",
              "      <td>...</td>\n",
              "      <td>...</td>\n",
              "    </tr>\n",
              "    <tr>\n",
              "      <th>79721</th>\n",
              "      <td>1.392439e-03</td>\n",
              "      <td>7.898849e-01</td>\n",
              "      <td>4.518250e-03</td>\n",
              "      <td>2.624607e-05</td>\n",
              "      <td>6.658742e-06</td>\n",
              "      <td>5.474327e-02</td>\n",
              "      <td>2.677319e-03</td>\n",
              "      <td>1.294346e-01</td>\n",
              "      <td>1.580592e-02</td>\n",
              "      <td>1.510424e-03</td>\n",
              "    </tr>\n",
              "    <tr>\n",
              "      <th>79722</th>\n",
              "      <td>2.909330e-03</td>\n",
              "      <td>9.769668e-01</td>\n",
              "      <td>6.106063e-04</td>\n",
              "      <td>1.840645e-02</td>\n",
              "      <td>9.927468e-06</td>\n",
              "      <td>1.953570e-05</td>\n",
              "      <td>7.033718e-04</td>\n",
              "      <td>3.250641e-06</td>\n",
              "      <td>1.049655e-04</td>\n",
              "      <td>2.656996e-04</td>\n",
              "    </tr>\n",
              "    <tr>\n",
              "      <th>79723</th>\n",
              "      <td>2.714109e-03</td>\n",
              "      <td>6.317266e-04</td>\n",
              "      <td>1.676580e-02</td>\n",
              "      <td>5.127796e-03</td>\n",
              "      <td>6.281042e-01</td>\n",
              "      <td>4.865540e-04</td>\n",
              "      <td>1.589698e-02</td>\n",
              "      <td>1.596380e-01</td>\n",
              "      <td>1.284541e-01</td>\n",
              "      <td>4.218066e-02</td>\n",
              "    </tr>\n",
              "    <tr>\n",
              "      <th>79724</th>\n",
              "      <td>9.509423e-09</td>\n",
              "      <td>1.756394e-07</td>\n",
              "      <td>5.731426e-01</td>\n",
              "      <td>3.233843e-10</td>\n",
              "      <td>5.015582e-08</td>\n",
              "      <td>8.031676e-09</td>\n",
              "      <td>4.226411e-01</td>\n",
              "      <td>6.251674e-06</td>\n",
              "      <td>4.209721e-03</td>\n",
              "      <td>7.769115e-08</td>\n",
              "    </tr>\n",
              "    <tr>\n",
              "      <th>79725</th>\n",
              "      <td>1.435918e-09</td>\n",
              "      <td>1.408071e-11</td>\n",
              "      <td>4.562517e-10</td>\n",
              "      <td>9.830616e-11</td>\n",
              "      <td>2.590868e-13</td>\n",
              "      <td>1.000000e+00</td>\n",
              "      <td>6.855363e-12</td>\n",
              "      <td>1.631389e-10</td>\n",
              "      <td>1.215044e-08</td>\n",
              "      <td>6.876090e-09</td>\n",
              "    </tr>\n",
              "  </tbody>\n",
              "</table>\n",
              "<p>79726 rows × 10 columns</p>\n",
              "</div>\n",
              "      <button class=\"colab-df-convert\" onclick=\"convertToInteractive('df-fc74d335-3388-4fe6-b8b8-a86b7503daf5')\"\n",
              "              title=\"Convert this dataframe to an interactive table.\"\n",
              "              style=\"display:none;\">\n",
              "        \n",
              "  <svg xmlns=\"http://www.w3.org/2000/svg\" height=\"24px\"viewBox=\"0 0 24 24\"\n",
              "       width=\"24px\">\n",
              "    <path d=\"M0 0h24v24H0V0z\" fill=\"none\"/>\n",
              "    <path d=\"M18.56 5.44l.94 2.06.94-2.06 2.06-.94-2.06-.94-.94-2.06-.94 2.06-2.06.94zm-11 1L8.5 8.5l.94-2.06 2.06-.94-2.06-.94L8.5 2.5l-.94 2.06-2.06.94zm10 10l.94 2.06.94-2.06 2.06-.94-2.06-.94-.94-2.06-.94 2.06-2.06.94z\"/><path d=\"M17.41 7.96l-1.37-1.37c-.4-.4-.92-.59-1.43-.59-.52 0-1.04.2-1.43.59L10.3 9.45l-7.72 7.72c-.78.78-.78 2.05 0 2.83L4 21.41c.39.39.9.59 1.41.59.51 0 1.02-.2 1.41-.59l7.78-7.78 2.81-2.81c.8-.78.8-2.07 0-2.86zM5.41 20L4 18.59l7.72-7.72 1.47 1.35L5.41 20z\"/>\n",
              "  </svg>\n",
              "      </button>\n",
              "      \n",
              "  <style>\n",
              "    .colab-df-container {\n",
              "      display:flex;\n",
              "      flex-wrap:wrap;\n",
              "      gap: 12px;\n",
              "    }\n",
              "\n",
              "    .colab-df-convert {\n",
              "      background-color: #E8F0FE;\n",
              "      border: none;\n",
              "      border-radius: 50%;\n",
              "      cursor: pointer;\n",
              "      display: none;\n",
              "      fill: #1967D2;\n",
              "      height: 32px;\n",
              "      padding: 0 0 0 0;\n",
              "      width: 32px;\n",
              "    }\n",
              "\n",
              "    .colab-df-convert:hover {\n",
              "      background-color: #E2EBFA;\n",
              "      box-shadow: 0px 1px 2px rgba(60, 64, 67, 0.3), 0px 1px 3px 1px rgba(60, 64, 67, 0.15);\n",
              "      fill: #174EA6;\n",
              "    }\n",
              "\n",
              "    [theme=dark] .colab-df-convert {\n",
              "      background-color: #3B4455;\n",
              "      fill: #D2E3FC;\n",
              "    }\n",
              "\n",
              "    [theme=dark] .colab-df-convert:hover {\n",
              "      background-color: #434B5C;\n",
              "      box-shadow: 0px 1px 3px 1px rgba(0, 0, 0, 0.15);\n",
              "      filter: drop-shadow(0px 1px 2px rgba(0, 0, 0, 0.3));\n",
              "      fill: #FFFFFF;\n",
              "    }\n",
              "  </style>\n",
              "\n",
              "      <script>\n",
              "        const buttonEl =\n",
              "          document.querySelector('#df-fc74d335-3388-4fe6-b8b8-a86b7503daf5 button.colab-df-convert');\n",
              "        buttonEl.style.display =\n",
              "          google.colab.kernel.accessAllowed ? 'block' : 'none';\n",
              "\n",
              "        async function convertToInteractive(key) {\n",
              "          const element = document.querySelector('#df-fc74d335-3388-4fe6-b8b8-a86b7503daf5');\n",
              "          const dataTable =\n",
              "            await google.colab.kernel.invokeFunction('convertToInteractive',\n",
              "                                                     [key], {});\n",
              "          if (!dataTable) return;\n",
              "\n",
              "          const docLinkHtml = 'Like what you see? Visit the ' +\n",
              "            '<a target=\"_blank\" href=https://colab.research.google.com/notebooks/data_table.ipynb>data table notebook</a>'\n",
              "            + ' to learn more about interactive tables.';\n",
              "          element.innerHTML = '';\n",
              "          dataTable['output_type'] = 'display_data';\n",
              "          await google.colab.output.renderOutput(dataTable, element);\n",
              "          const docLink = document.createElement('div');\n",
              "          docLink.innerHTML = docLinkHtml;\n",
              "          element.appendChild(docLink);\n",
              "        }\n",
              "      </script>\n",
              "    </div>\n",
              "  </div>\n",
              "  "
            ]
          },
          "metadata": {},
          "execution_count": 38
        }
      ]
    },
    {
      "cell_type": "code",
      "source": [
        "label_test.to_csv('Distracted_Driver_MultiAction_Classification.csv',index=False)"
      ],
      "metadata": {
        "id": "U7-L5am_2ptQ"
      },
      "execution_count": 39,
      "outputs": []
    }
  ]
}